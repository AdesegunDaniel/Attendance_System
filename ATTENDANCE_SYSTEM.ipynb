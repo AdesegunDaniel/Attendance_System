{
 "cells": [
  {
   "cell_type": "code",
   "execution_count": 1,
   "id": "6a05148e",
   "metadata": {},
   "outputs": [
    {
     "name": "stdout",
     "output_type": "stream",
     "text": [
      "Microsoft Windows [Version 10.0.18363.418]\r\n",
      "(c) 2019 Microsoft Corporation. All rights reserved.\r\n",
      "\r\n",
      "(base) C:\\Users\\owner>pip install cmake\n",
      "Requirement already satisfied: cmake in c:\\users\\owner\\anaconda3\\lib\\site-packages (3.26.0)\r\n",
      "\r\n",
      "(base) C:\\Users\\owner>pip install \"C:\\Users\\owner\\Downloads\\Dlib-python whl packages\\Dlib-python whl packages\\dlib-19.22.99-cp39-cp39-win_amd64.whl\"\n",
      "Processing c:\\users\\owner\\downloads\\dlib-python whl packages\\dlib-python whl packages\\dlib-19.22.99-cp39-cp39-win_amd64.whl\r\n",
      "dlib is already installed with the same version as the provided wheel. Use --force-reinstall to force an installation of the wheel.\r\n",
      "\r\n",
      "(base) C:\\Users\\owner>pip install face-recognition\n",
      "Requirement already satisfied: face-recognition in c:\\users\\owner\\anaconda3\\lib\\site-packages (1.3.0)\r\n",
      "Requirement already satisfied: dlib>=19.7 in c:\\users\\owner\\anaconda3\\lib\\site-packages (from face-recognition) (19.22.99)\r\n",
      "Requirement already satisfied: Pillow in c:\\users\\owner\\anaconda3\\lib\\site-packages (from face-recognition) (9.2.0)\r\n",
      "Requirement already satisfied: numpy in c:\\users\\owner\\anaconda3\\lib\\site-packages (from face-recognition) (1.21.5)\r\n",
      "Requirement already satisfied: Click>=6.0 in c:\\users\\owner\\anaconda3\\lib\\site-packages (from face-recognition) (8.0.3)\r\n",
      "Requirement already satisfied: face-recognition-models>=0.3.0 in c:\\users\\owner\\anaconda3\\lib\\site-packages (from face-recognition) (0.3.0)\r\n",
      "Requirement already satisfied: colorama in c:\\users\\owner\\anaconda3\\lib\\site-packages (from Click>=6.0->face-recognition) (0.4.5)\r\n",
      "\r\n",
      "(base) C:\\Users\\owner>pip install opencv-python\n",
      "Requirement already satisfied: opencv-python in c:\\users\\owner\\anaconda3\\lib\\site-packages (4.7.0.72)\r\n",
      "Requirement already satisfied: numpy>=1.19.3 in c:\\users\\owner\\anaconda3\\lib\\site-packages (from opencv-python) (1.21.5)\r\n",
      "\r\n",
      "(base) C:\\Users\\owner>"
     ]
    }
   ],
   "source": [
    "%%cmd\n",
    "pip install cmake\n",
    "pip install \"C:\\Users\\owner\\Downloads\\Dlib-python whl packages\\Dlib-python whl packages\\dlib-19.22.99-cp39-cp39-win_amd64.whl\"\n",
    "pip install face-recognition\n",
    "pip install opencv-python"
   ]
  },
  {
   "cell_type": "code",
   "execution_count": 2,
   "id": "140fcd1c",
   "metadata": {},
   "outputs": [],
   "source": [
    "import cmake\n",
    "import dlib\n",
    "import face_recognition as face_rec\n",
    "import os\n",
    "import cv2\n",
    "import numpy as np\n",
    "import pandas as pd\n",
    "import sqlite3\n",
    "from openpyxl import load_workbook\n",
    "from datetime import date"
   ]
  },
  {
   "cell_type": "code",
   "execution_count": 3,
   "id": "e4928477",
   "metadata": {},
   "outputs": [],
   "source": [
    "path= r\"C:\\Users\\owner\\anaconda3\\ATTENDANCE SYSTEM PROJECT\\train_data_set\"\n",
    "data_base= os.listdir(path)\n",
    "image=[]\n",
    "persons_name=[]\n",
    "for img_id in data_base:\n",
    "    img_on=cv2.imread(f\"{path}/{img_id}\")\n",
    "    image.append(img_on)\n",
    "    persons_name.append(os.path.splitext(img_id)[0])"
   ]
  },
  {
   "cell_type": "code",
   "execution_count": 4,
   "id": "d20ec055",
   "metadata": {},
   "outputs": [],
   "source": [
    "today= date.today()\n",
    "todays_date=today.strftime(\"%d/%m/%Y\")\n",
    "day=int(today.strftime(\"%d\"))\n",
    "xlsx_ref=[\"C\",\"D\",\"E\",\"F\",\"G\",'H',\"I\",\"J\",\"K\",\"L\",\"M\",\"N\",\"O\",\"P\",\"Q\",\"R\",\n",
    "          \"S\",\"T\",\"U\",\"V\",\"W\",\"X\",\"Y\",\"Z\",\"AA\",\"AB\",\"AC\",\"AD\",\"AE\",\"AF\",\"AG\"]\n"
   ]
  },
  {
   "cell_type": "code",
   "execution_count": 5,
   "id": "94b0724f",
   "metadata": {},
   "outputs": [],
   "source": [
    "def encode_image(image):\n",
    "    encode_list=[]\n",
    "    for img in image:\n",
    "        img= cv2.cvtColor(img, cv2.COLOR_BGR2RGB )\n",
    "        encode= face_rec.face_encodings(img)[0]\n",
    "        encode_list.append(encode)\n",
    "    return encode_list\n",
    "\n",
    "def update_register(path):\n",
    "    exl= pd.read_excel(path)\n",
    "    sql = sqlite3.connect(r\"C:\\Users\\owner\\Desktop\\Training_Database.db\")\n",
    "    sql_cur = sql.cursor()\n",
    "    sql_cur.execute('CREATE TABLE IF NOT EXISTS School_Attendance (SERIAL_NO INTEGER, STUDENTS_NAME TEXT)')\n",
    "    sql.commit()\n",
    "    exl.to_sql(\"School_Attendance\", con=sql, if_exists='replace')\n",
    "    print(\"REGISTER UPDATED\")\n",
    "    \n",
    "def find_name(name):\n",
    "    register=sqlite3.connect(r\"C:\\Users\\owner\\Desktop\\Training_Database.db\")\n",
    "    cur= register.cursor()\n",
    "    serial=cur.execute(\"SELECT SERIAL_NO from School_Attendance where STUDENTS_NAME =(?)\", (name,))\n",
    "    serial=serial.fetchone()\n",
    "    serial=str(serial[0]+1)\n",
    "    return serial\n"
   ]
  },
  {
   "cell_type": "code",
   "execution_count": 6,
   "id": "47357d8a",
   "metadata": {},
   "outputs": [
    {
     "name": "stdout",
     "output_type": "stream",
     "text": [
      "REGISTER UPDATED\n"
     ]
    }
   ],
   "source": [
    "img_in_database = encode_image(image)\n",
    "path=r\"C:\\Users\\owner\\anaconda3\\ATTENDANCE SYSTEM PROJECT\\School_Attendance.xlsx\"\n",
    "#note the path need to be updated if paraventure you change the location of the School_Attendance.\n",
    "update_register(path)"
   ]
  },
  {
   "cell_type": "code",
   "execution_count": 8,
   "id": "a79d0b5c",
   "metadata": {},
   "outputs": [
    {
     "ename": "TypeError",
     "evalue": "'NoneType' object is not subscriptable",
     "output_type": "error",
     "traceback": [
      "\u001b[1;31m---------------------------------------------------------------------------\u001b[0m",
      "\u001b[1;31mTypeError\u001b[0m                                 Traceback (most recent call last)",
      "\u001b[1;32m~\\AppData\\Local\\Temp\\ipykernel_11556\\3758944952.py\u001b[0m in \u001b[0;36m<module>\u001b[1;34m\u001b[0m\n\u001b[0;32m     19\u001b[0m             \u001b[0mname\u001b[0m\u001b[1;33m=\u001b[0m\u001b[0mpersons_name\u001b[0m\u001b[1;33m[\u001b[0m\u001b[0mchoice\u001b[0m\u001b[1;33m]\u001b[0m\u001b[1;33m.\u001b[0m\u001b[0mupper\u001b[0m\u001b[1;33m(\u001b[0m\u001b[1;33m)\u001b[0m\u001b[1;33m\u001b[0m\u001b[1;33m\u001b[0m\u001b[0m\n\u001b[0;32m     20\u001b[0m             \u001b[1;31m#cv2.rectangle(frame, (x1,y1),(x2,y2), (0,0,0),2)\u001b[0m\u001b[1;33m\u001b[0m\u001b[1;33m\u001b[0m\u001b[0m\n\u001b[1;32m---> 21\u001b[1;33m             \u001b[0mserial\u001b[0m\u001b[1;33m=\u001b[0m\u001b[0mfind_name\u001b[0m\u001b[1;33m(\u001b[0m\u001b[0mname\u001b[0m\u001b[1;33m)\u001b[0m\u001b[1;33m\u001b[0m\u001b[1;33m\u001b[0m\u001b[0m\n\u001b[0m\u001b[0;32m     22\u001b[0m             \u001b[0mworkbook\u001b[0m\u001b[1;33m=\u001b[0m \u001b[0mload_workbook\u001b[0m\u001b[1;33m(\u001b[0m\u001b[0mpath\u001b[0m\u001b[1;33m)\u001b[0m\u001b[1;33m\u001b[0m\u001b[1;33m\u001b[0m\u001b[0m\n\u001b[0;32m     23\u001b[0m             \u001b[0msheet\u001b[0m\u001b[1;33m=\u001b[0m\u001b[0mworkbook\u001b[0m\u001b[1;33m.\u001b[0m\u001b[0mactive\u001b[0m\u001b[1;33m\u001b[0m\u001b[1;33m\u001b[0m\u001b[0m\n",
      "\u001b[1;32m~\\AppData\\Local\\Temp\\ipykernel_11556\\1292373874.py\u001b[0m in \u001b[0;36mfind_name\u001b[1;34m(name)\u001b[0m\n\u001b[0;32m     21\u001b[0m     \u001b[0mserial\u001b[0m\u001b[1;33m=\u001b[0m\u001b[0mcur\u001b[0m\u001b[1;33m.\u001b[0m\u001b[0mexecute\u001b[0m\u001b[1;33m(\u001b[0m\u001b[1;34m\"SELECT SERIAL_NO from School_Attendance where STUDENTS_NAME =(?)\"\u001b[0m\u001b[1;33m,\u001b[0m \u001b[1;33m(\u001b[0m\u001b[0mname\u001b[0m\u001b[1;33m,\u001b[0m\u001b[1;33m)\u001b[0m\u001b[1;33m)\u001b[0m\u001b[1;33m\u001b[0m\u001b[1;33m\u001b[0m\u001b[0m\n\u001b[0;32m     22\u001b[0m     \u001b[0mserial\u001b[0m\u001b[1;33m=\u001b[0m\u001b[0mserial\u001b[0m\u001b[1;33m.\u001b[0m\u001b[0mfetchone\u001b[0m\u001b[1;33m(\u001b[0m\u001b[1;33m)\u001b[0m\u001b[1;33m\u001b[0m\u001b[1;33m\u001b[0m\u001b[0m\n\u001b[1;32m---> 23\u001b[1;33m     \u001b[0mserial\u001b[0m\u001b[1;33m=\u001b[0m\u001b[0mstr\u001b[0m\u001b[1;33m(\u001b[0m\u001b[0mserial\u001b[0m\u001b[1;33m[\u001b[0m\u001b[1;36m0\u001b[0m\u001b[1;33m]\u001b[0m\u001b[1;33m+\u001b[0m\u001b[1;36m1\u001b[0m\u001b[1;33m)\u001b[0m\u001b[1;33m\u001b[0m\u001b[1;33m\u001b[0m\u001b[0m\n\u001b[0m\u001b[0;32m     24\u001b[0m     \u001b[1;32mreturn\u001b[0m \u001b[0mserial\u001b[0m\u001b[1;33m\u001b[0m\u001b[1;33m\u001b[0m\u001b[0m\n",
      "\u001b[1;31mTypeError\u001b[0m: 'NoneType' object is not subscriptable"
     ]
    }
   ],
   "source": [
    "cap=cv2.VideoCapture(0)\n",
    "while True:\n",
    "    ind,frame= cap.read()\n",
    "    #frame=cv2.resize(frame, (0,0), None, 0.5, 0.5)\n",
    "    if len(frame.shape) == 2:\n",
    "        frame = cv2.cvtColor(frame,cv2.COLOR_GRAY2BGR)\n",
    "    face_on_cam= face_rec.face_locations(frame)\n",
    "    encode_face= face_rec.face_encodings(frame, face_on_cam)\n",
    "    \n",
    "    for face_encode, face_location in zip(encode_face, face_on_cam):\n",
    "        recognice= face_rec.compare_faces(img_in_database, face_encode)\n",
    "        doubt= face_rec.face_distance(img_in_database, face_encode)\n",
    "        y1, x2, y2, x1 =face_location\n",
    "        a=int(x1+(x2-x1)/2)\n",
    "        b=int(y1+(y2-y1)/2)\n",
    "        c=int((x2-x1)/2)+25\n",
    "        choice= np.argmin(doubt)\n",
    "        if recognice[choice]:\n",
    "            name=persons_name[choice].upper()\n",
    "            #cv2.rectangle(frame, (x1,y1),(x2,y2), (0,0,0),2)\n",
    "            serial=find_name(name)\n",
    "            workbook= load_workbook(path)\n",
    "            sheet=workbook.active\n",
    "            sheet[xlsx_ref[day-1]+'1']= todays_date\n",
    "            sheet[xlsx_ref[day-1]+(serial)]= \"present\"\n",
    "            workbook.save(path)\n",
    "            workbook.close()\n",
    "            #cv2.rectangle(frame, (x1,y1),(x2,y2), (0,0,0),2)\n",
    "            cv2.circle(frame, (a,b ),c,(255,255,255),3)\n",
    "            cv2.putText(frame, name, (x1,y1-30), cv2.FONT_HERSHEY_COMPLEX, 0.5, (255,255,255),1)\n",
    "    cv2.imshow('webcam',frame)\n",
    "    cv2.waitKey(300)"
   ]
  },
  {
   "cell_type": "code",
   "execution_count": null,
   "id": "1ac1c4ad",
   "metadata": {},
   "outputs": [],
   "source": []
  },
  {
   "cell_type": "code",
   "execution_count": null,
   "id": "18e7c3a7",
   "metadata": {},
   "outputs": [],
   "source": []
  },
  {
   "cell_type": "code",
   "execution_count": null,
   "id": "095a8bbb",
   "metadata": {},
   "outputs": [],
   "source": []
  },
  {
   "cell_type": "code",
   "execution_count": null,
   "id": "02586646",
   "metadata": {},
   "outputs": [],
   "source": []
  }
 ],
 "metadata": {
  "kernelspec": {
   "display_name": "Python 3 (ipykernel)",
   "language": "python",
   "name": "python3"
  },
  "language_info": {
   "codemirror_mode": {
    "name": "ipython",
    "version": 3
   },
   "file_extension": ".py",
   "mimetype": "text/x-python",
   "name": "python",
   "nbconvert_exporter": "python",
   "pygments_lexer": "ipython3",
   "version": "3.9.13"
  }
 },
 "nbformat": 4,
 "nbformat_minor": 5
}
